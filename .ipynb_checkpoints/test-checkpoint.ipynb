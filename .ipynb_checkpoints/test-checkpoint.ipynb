{
 "cells": [
  {
   "cell_type": "code",
   "execution_count": 11,
   "id": "7e24fdf2-bfb3-43c6-acc8-69cf1563c0b3",
   "metadata": {},
   "outputs": [],
   "source": [
    "def f(x):\n",
    "    return x**2 + 3*x + 8\n",
    "\n",
    "def df(x):\n",
    "    return 2*x + 3\n",
    "\n",
    "def train(x,epochs,learning_rate):\n",
    "    losses = []\n",
    "    for i in range(epochs):\n",
    "        x_new = x - learning_rate * df(x)\n",
    "        losses.append(abs(x_new + 1.5))\n",
    "        x = x_new\n",
    "    return x, losses"
   ]
  },
  {
   "cell_type": "code",
   "execution_count": 37,
   "id": "c09e0411-4cce-4b2b-aa86-4cad0d016845",
   "metadata": {},
   "outputs": [],
   "source": [
    "n_epochs = 100\n",
    "lr = 0.008\n",
    "x, losses = train(30,epochs=n_epochs,learning_rate=lr)"
   ]
  },
  {
   "cell_type": "code",
   "execution_count": 38,
   "id": "0889713a-f70c-46fd-a9aa-a50d19347fb5",
   "metadata": {},
   "outputs": [
    {
     "data": {
      "text/plain": [
       "[<matplotlib.lines.Line2D at 0x1af7d085a60>]"
      ]
     },
     "execution_count": 38,
     "metadata": {},
     "output_type": "execute_result"
    },
    {
     "data": {
      "image/png": "[encoded data removed]",
      "text/plain": [
       "<Figure size 432x288 with 1 Axes>"
      ]
     },
     "metadata": {
      "needs_background": "light"
     },
     "output_type": "display_data"
    }
   ],
   "source": [
    "import matplotlib.pyplot as plt\n",
    "plt.plot(losses)"
   ]
  },
  {
   "cell_type": "code",
   "execution_count": 28,
   "id": "6fbef23b-2a0a-4d7c-95f2-ef0d5fba6ba4",
   "metadata": {},
   "outputs": [
    {
     "data": {
      "text/plain": [
       "-1.4999999935833368"
      ]
     },
     "execution_count": 28,
     "metadata": {},
     "output_type": "execute_result"
    }
   ],
   "source": [
    "x"
   ]
  }
 ],
 "metadata": {
  "kernelspec": {
   "display_name": "Python 3 (ipykernel)",
   "language": "python",
   "name": "python3"
  },
  "language_info": {
   "codemirror_mode": {
    "name": "ipython",
    "version": 3
   },
   "file_extension": ".py",
   "mimetype": "text/x-python",
   "name": "python",
   "nbconvert_exporter": "python",
   "pygments_lexer": "ipython3",
   "version": "3.9.7"
  }
 },
 "nbformat": 4,
 "nbformat_minor": 5
}
