{
 "cells": [
  {
   "cell_type": "code",
   "execution_count": 1,
   "id": "c1530004-1ad9-483d-9e0a-1326d9df07e2",
   "metadata": {},
   "outputs": [],
   "source": [
    "import pandas as pd"
   ]
  },
  {
   "cell_type": "code",
   "execution_count": 2,
   "id": "cd27fea1-0624-40d0-9508-ea82ed32bdf4",
   "metadata": {},
   "outputs": [
    {
     "name": "stdout",
     "output_type": "stream",
     "text": [
      "Collecting gdown\n",
      "  Downloading gdown-4.2.0.tar.gz (13 kB)\n",
      "  Installing build dependencies: started\n",
      "  Installing build dependencies: finished with status 'done'\n",
      "  Getting requirements to build wheel: started\n",
      "  Getting requirements to build wheel: finished with status 'done'\n",
      "  Preparing wheel metadata (pyproject.toml): started\n",
      "  Preparing wheel metadata (pyproject.toml): finished with status 'done'\n",
      "Requirement already satisfied: six in d:\\apps\\python39\\lib\\site-packages (from gdown) (1.15.0)\n",
      "Collecting tqdm\n",
      "  Using cached tqdm-4.62.3-py2.py3-none-any.whl (76 kB)\n",
      "Collecting beautifulsoup4\n",
      "  Using cached beautifulsoup4-4.10.0-py3-none-any.whl (97 kB)\n",
      "Collecting filelock\n",
      "  Using cached filelock-3.3.1-py3-none-any.whl (9.7 kB)\n",
      "Requirement already satisfied: requests[socks] in d:\\apps\\python39\\lib\\site-packages (from gdown) (2.26.0)\n",
      "Collecting soupsieve>1.2\n",
      "  Using cached soupsieve-2.2.1-py3-none-any.whl (33 kB)\n",
      "Requirement already satisfied: charset-normalizer~=2.0.0 in d:\\apps\\python39\\lib\\site-packages (from requests[socks]->gdown) (2.0.7)\n",
      "Requirement already satisfied: urllib3<1.27,>=1.21.1 in d:\\apps\\python39\\lib\\site-packages (from requests[socks]->gdown) (1.26.7)\n",
      "Requirement already satisfied: idna<4,>=2.5 in d:\\apps\\python39\\lib\\site-packages (from requests[socks]->gdown) (3.3)\n",
      "Requirement already satisfied: certifi>=2017.4.17 in d:\\apps\\python39\\lib\\site-packages (from requests[socks]->gdown) (2021.10.8)\n",
      "Collecting PySocks!=1.5.7,>=1.5.6\n",
      "  Using cached PySocks-1.7.1-py3-none-any.whl (16 kB)\n",
      "Requirement already satisfied: colorama in d:\\apps\\python39\\lib\\site-packages (from tqdm->gdown) (0.4.4)\n",
      "Building wheels for collected packages: gdown\n",
      "  Building wheel for gdown (pyproject.toml): started\n",
      "  Building wheel for gdown (pyproject.toml): finished with status 'done'\n",
      "  Created wheel for gdown: filename=gdown-4.2.0-py3-none-any.whl size=14262 sha256=e6dc6d2fe12c29483be0acc30bf1dfdf9cd2acc1b26f36da62bbeec0b8350736\n",
      "  Stored in directory: c:\\users\\desmond\\appdata\\local\\pip\\cache\\wheels\\68\\11\\97\\886e5796b655bf28bf4a0d75e933ea71c6d7d34be701168d1d\n",
      "Successfully built gdown\n",
      "Installing collected packages: soupsieve, PySocks, tqdm, filelock, beautifulsoup4, gdown\n",
      "Successfully installed PySocks-1.7.1 beautifulsoup4-4.10.0 filelock-3.3.1 gdown-4.2.0 soupsieve-2.2.1 tqdm-4.62.3\n"
     ]
    },
    {
     "name": "stderr",
     "output_type": "stream",
     "text": [
      "WARNING: Ignoring invalid distribution -ip (d:\\apps\\python39\\lib\\site-packages)\n",
      "WARNING: Ignoring invalid distribution -ip (d:\\apps\\python39\\lib\\site-packages)\n",
      "WARNING: Ignoring invalid distribution -ip (d:\\apps\\python39\\lib\\site-packages)\n",
      "WARNING: Ignoring invalid distribution -ip (d:\\apps\\python39\\lib\\site-packages)\n",
      "WARNING: Ignoring invalid distribution -ip (d:\\apps\\python39\\lib\\site-packages)\n",
      "WARNING: Ignoring invalid distribution -ip (d:\\apps\\python39\\lib\\site-packages)\n",
      "WARNING: Ignoring invalid distribution -ip (d:\\apps\\python39\\lib\\site-packages)\n",
      "WARNING: Ignoring invalid distribution -ip (d:\\apps\\python39\\lib\\site-packages)\n",
      "WARNING: Ignoring invalid distribution -ip (d:\\apps\\python39\\lib\\site-packages)\n",
      "WARNING: Ignoring invalid distribution -ip (d:\\apps\\python39\\lib\\site-packages)\n",
      "WARNING: Ignoring invalid distribution -ip (d:\\apps\\python39\\lib\\site-packages)\n"
     ]
    }
   ],
   "source": [
    "!pip install gdown"
   ]
  }
 ],
 "metadata": {
  "kernelspec": {
   "display_name": "Python 3 (ipykernel)",
   "language": "python",
   "name": "python3"
  },
  "language_info": {
   "codemirror_mode": {
    "name": "ipython",
    "version": 3
   },
   "file_extension": ".py",
   "mimetype": "text/x-python",
   "name": "python",
   "nbconvert_exporter": "python",
   "pygments_lexer": "ipython3",
   "version": "3.9.7"
  }
 },
 "nbformat": 4,
 "nbformat_minor": 5
}
