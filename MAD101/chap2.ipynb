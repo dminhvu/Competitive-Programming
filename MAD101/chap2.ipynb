{
 "cells": [
  {
   "cell_type": "code",
   "execution_count": 3,
   "metadata": {},
   "outputs": [],
   "source": [
    "class SetOperator():\n",
    "    def __init__(self,a,b):\n",
    "        self.a = a\n",
    "        self.b = b\n",
    "        \n",
    "    def union(self):\n",
    "        ans = []\n",
    "        for x in a:\n",
    "            ans.append(x)\n",
    "        for x in b:\n",
    "            if x not in a:\n",
    "                ans.append(x)\n",
    "\n",
    "        return ans\n",
    "\n",
    "    def intersection(self):\n",
    "        ans = []\n",
    "        for x in a:\n",
    "            if x in b:\n",
    "                ans.append(x)\n",
    "\n",
    "        return ans\n",
    "\n",
    "    def difference(self):\n",
    "        ans = []\n",
    "        for x in a:\n",
    "            if x not in b:\n",
    "                ans.append(x)\n",
    "\n",
    "        return ans\n",
    "\n",
    "    def symmetric_difference(self):\n",
    "        ans = []\n",
    "        for x in a:\n",
    "            if x not in b:\n",
    "                ans.append(x)\n",
    "        for x in b:\n",
    "            if x not in a:\n",
    "                ans.append(x)\n",
    "\n",
    "        return ans"
   ]
  },
  {
   "cell_type": "code",
   "execution_count": 4,
   "metadata": {},
   "outputs": [
    {
     "name": "stdout",
     "output_type": "stream",
     "text": [
      "Symmetric difference: [3, 4, 5, 6]\n",
      "Intersection: [1, 2]\n",
      "Union: [1, 2, 3, 4, 5, 6]\n",
      "Difference: [3, 4]\n"
     ]
    }
   ],
   "source": [
    "a = [1, 2, 3, 4]\n",
    "b = [1, 2, 5, 6]\n",
    "operator = SetOperator(a=a,b=b)\n",
    "print(f'Symmetric difference: {operator.symmetric_difference()}')\n",
    "print(f'Intersection: {operator.intersection()}')\n",
    "print(f'Union: {operator.union()}')\n",
    "print(f'Difference: {operator.difference()}')"
   ]
  }
 ],
 "metadata": {
  "interpreter": {
   "hash": "a3e015515d4fa22c675781dc3850c1e7652ce10b979365067a3c4bdf5c98d7a9"
  },
  "kernelspec": {
   "display_name": "Python 3.9.7 64-bit",
   "name": "python3"
  },
  "language_info": {
   "codemirror_mode": {
    "name": "ipython",
    "version": 3
   },
   "file_extension": ".py",
   "mimetype": "text/x-python",
   "name": "python",
   "nbconvert_exporter": "python",
   "pygments_lexer": "ipython3",
   "version": "3.9.7"
  },
  "orig_nbformat": 4
 },
 "nbformat": 4,
 "nbformat_minor": 2
}
