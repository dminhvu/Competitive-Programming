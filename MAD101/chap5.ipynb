{
 "cells": [
  {
   "cell_type": "code",
   "execution_count": 5,
   "metadata": {},
   "outputs": [],
   "source": [
    "class BitStringFinder():\n",
    "    def __init__(self,n):\n",
    "        self.n = n\n",
    "        self.list = []\n",
    "        self.count = 0\n",
    "\n",
    "    def go(self):\n",
    "        self.find(self.n,'')\n",
    "        self.count = len(self.list)\n",
    "\n",
    "    def find(self,n,st):\n",
    "        if len(st) == n:\n",
    "            self.list.append(st)\n",
    "            return\n",
    "        if len(st) == 0:\n",
    "            self.find(n,st + '0')\n",
    "            self.find(n,st + '1')\n",
    "        else:\n",
    "            if st[-1] == '0':\n",
    "                self.find(n,st + '1')\n",
    "            else:\n",
    "                self.find(n,st + '1')\n",
    "                self.find(n,st + '0')\n",
    "                \n",
    "    def print(self):\n",
    "        print(self.list)"
   ]
  },
  {
   "cell_type": "code",
   "execution_count": 7,
   "metadata": {},
   "outputs": [
    {
     "name": "stdout",
     "output_type": "stream",
     "text": [
      "Total: 13\n",
      "['01111', '01110', '01101', '01011', '01010', '11111', '11110', '11101', '11011', '11010', '10111', '10110', '10101']\n"
     ]
    }
   ],
   "source": [
    "n = 5\n",
    "finder = BitStringFinder(n=n)\n",
    "finder.go()\n",
    "print(f'Total: {finder.count}')\n",
    "finder.print()"
   ]
  }
 ],
 "metadata": {
  "interpreter": {
   "hash": "a3e015515d4fa22c675781dc3850c1e7652ce10b979365067a3c4bdf5c98d7a9"
  },
  "kernelspec": {
   "display_name": "Python 3.9.7 64-bit",
   "name": "python3"
  },
  "language_info": {
   "codemirror_mode": {
    "name": "ipython",
    "version": 3
   },
   "file_extension": ".py",
   "mimetype": "text/x-python",
   "name": "python",
   "nbconvert_exporter": "python",
   "pygments_lexer": "ipython3",
   "version": "3.9.7"
  },
  "orig_nbformat": 4
 },
 "nbformat": 4,
 "nbformat_minor": 2
}
